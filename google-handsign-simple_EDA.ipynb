{
 "cells": [
  {
   "cell_type": "code",
   "execution_count": 1,
   "id": "c145e694",
   "metadata": {
    "_cell_guid": "b1076dfc-b9ad-4769-8c92-a6c4dae69d19",
    "_uuid": "8f2839f25d086af736a60e9eeb907d3b93b6e0e5",
    "collapsed": true,
    "execution": {
     "iopub.execute_input": "2023-03-05T22:29:30.033169Z",
     "iopub.status.busy": "2023-03-05T22:29:30.032765Z",
     "iopub.status.idle": "2023-03-05T22:29:39.060652Z",
     "shell.execute_reply": "2023-03-05T22:29:39.059291Z"
    },
    "jupyter": {
     "outputs_hidden": true
    },
    "papermill": {
     "duration": 9.04055,
     "end_time": "2023-03-05T22:29:39.064036",
     "exception": false,
     "start_time": "2023-03-05T22:29:30.023486",
     "status": "completed"
    },
    "tags": []
   },
   "outputs": [],
   "source": [
    "# This Python 3 environment comes with many helpful analytics libraries installed\n",
    "# It is defined by the kaggle/python Docker image: https://github.com/kaggle/docker-python\n",
    "# For example, here's several helpful packages to load\n",
    "\n",
    "import numpy as np # linear algebra\n",
    "import pandas as pd # data processing, CSV file I/O (e.g. pd.read_csv)\n",
    "import matplotlib.pyplot as plt\n",
    "import tensorflow as tf\n",
    "from tensorflow.keras import layers, optimizers\n",
    "import json \n",
    "# Input data files are available in the read-only \"../input/\" directory\n",
    "# For example, running this (by clicking run or pressing Shift+Enter) will list all files under the input directory\n",
    "\n",
    "# import os\n",
    "# for dirname, _, filenames in os.walk('/kaggle/input'):\n",
    "#     for filename in filenames:\n",
    "#         print(os.path.join(dirname, filename))\n",
    "\n",
    "# You can write up to 20GB to the current directory (/kaggle/working/) that gets preserved as output when you create a version using \"Save & Run All\" \n",
    "# You can also write temporary files to /kaggle/temp/, but they won't be saved outside of the current session"
   ]
  },
  {
   "cell_type": "code",
   "execution_count": 2,
   "id": "312b3ede",
   "metadata": {
    "execution": {
     "iopub.execute_input": "2023-03-05T22:29:39.079118Z",
     "iopub.status.busy": "2023-03-05T22:29:39.078287Z",
     "iopub.status.idle": "2023-03-05T22:29:39.089300Z",
     "shell.execute_reply": "2023-03-05T22:29:39.088080Z"
    },
    "papermill": {
     "duration": 0.021892,
     "end_time": "2023-03-05T22:29:39.092200",
     "exception": false,
     "start_time": "2023-03-05T22:29:39.070308",
     "status": "completed"
    },
    "tags": []
   },
   "outputs": [],
   "source": [
    "with open('/kaggle/input/asl-signs/sign_to_prediction_index_map.json') as f:\n",
    "    index_map = json.load(f)"
   ]
  },
  {
   "cell_type": "code",
   "execution_count": 3,
   "id": "ef8f7c6b",
   "metadata": {
    "execution": {
     "iopub.execute_input": "2023-03-05T22:29:39.106605Z",
     "iopub.status.busy": "2023-03-05T22:29:39.105477Z",
     "iopub.status.idle": "2023-03-05T22:29:39.356419Z",
     "shell.execute_reply": "2023-03-05T22:29:39.355109Z"
    },
    "papermill": {
     "duration": 0.261312,
     "end_time": "2023-03-05T22:29:39.359468",
     "exception": false,
     "start_time": "2023-03-05T22:29:39.098156",
     "status": "completed"
    },
    "tags": []
   },
   "outputs": [
    {
     "data": {
      "text/html": [
       "<div>\n",
       "<style scoped>\n",
       "    .dataframe tbody tr th:only-of-type {\n",
       "        vertical-align: middle;\n",
       "    }\n",
       "\n",
       "    .dataframe tbody tr th {\n",
       "        vertical-align: top;\n",
       "    }\n",
       "\n",
       "    .dataframe thead th {\n",
       "        text-align: right;\n",
       "    }\n",
       "</style>\n",
       "<table border=\"1\" class=\"dataframe\">\n",
       "  <thead>\n",
       "    <tr style=\"text-align: right;\">\n",
       "      <th></th>\n",
       "      <th>path</th>\n",
       "      <th>participant_id</th>\n",
       "      <th>sequence_id</th>\n",
       "      <th>sign</th>\n",
       "    </tr>\n",
       "  </thead>\n",
       "  <tbody>\n",
       "    <tr>\n",
       "      <th>0</th>\n",
       "      <td>train_landmark_files/26734/1000035562.parquet</td>\n",
       "      <td>26734</td>\n",
       "      <td>1000035562</td>\n",
       "      <td>blow</td>\n",
       "    </tr>\n",
       "    <tr>\n",
       "      <th>1</th>\n",
       "      <td>train_landmark_files/28656/1000106739.parquet</td>\n",
       "      <td>28656</td>\n",
       "      <td>1000106739</td>\n",
       "      <td>wait</td>\n",
       "    </tr>\n",
       "  </tbody>\n",
       "</table>\n",
       "</div>"
      ],
      "text/plain": [
       "                                            path  participant_id  sequence_id  \\\n",
       "0  train_landmark_files/26734/1000035562.parquet           26734   1000035562   \n",
       "1  train_landmark_files/28656/1000106739.parquet           28656   1000106739   \n",
       "\n",
       "   sign  \n",
       "0  blow  \n",
       "1  wait  "
      ]
     },
     "execution_count": 3,
     "metadata": {},
     "output_type": "execute_result"
    }
   ],
   "source": [
    "train_df = pd.read_csv(\"/kaggle/input/asl-signs/train.csv\")\n",
    "train_df.head(2)"
   ]
  },
  {
   "cell_type": "code",
   "execution_count": 4,
   "id": "e2f0ebd7",
   "metadata": {
    "execution": {
     "iopub.execute_input": "2023-03-05T22:29:39.374128Z",
     "iopub.status.busy": "2023-03-05T22:29:39.373705Z",
     "iopub.status.idle": "2023-03-05T22:29:39.402031Z",
     "shell.execute_reply": "2023-03-05T22:29:39.400465Z"
    },
    "papermill": {
     "duration": 0.038637,
     "end_time": "2023-03-05T22:29:39.404606",
     "exception": false,
     "start_time": "2023-03-05T22:29:39.365969",
     "status": "completed"
    },
    "tags": []
   },
   "outputs": [
    {
     "data": {
      "text/html": [
       "<div>\n",
       "<style scoped>\n",
       "    .dataframe tbody tr th:only-of-type {\n",
       "        vertical-align: middle;\n",
       "    }\n",
       "\n",
       "    .dataframe tbody tr th {\n",
       "        vertical-align: top;\n",
       "    }\n",
       "\n",
       "    .dataframe thead th {\n",
       "        text-align: right;\n",
       "    }\n",
       "</style>\n",
       "<table border=\"1\" class=\"dataframe\">\n",
       "  <thead>\n",
       "    <tr style=\"text-align: right;\">\n",
       "      <th></th>\n",
       "      <th>path</th>\n",
       "      <th>participant_id</th>\n",
       "      <th>sequence_id</th>\n",
       "      <th>sign</th>\n",
       "      <th>sign_as_int</th>\n",
       "    </tr>\n",
       "  </thead>\n",
       "  <tbody>\n",
       "    <tr>\n",
       "      <th>0</th>\n",
       "      <td>train_landmark_files/26734/1000035562.parquet</td>\n",
       "      <td>26734</td>\n",
       "      <td>1000035562</td>\n",
       "      <td>blow</td>\n",
       "      <td>25</td>\n",
       "    </tr>\n",
       "    <tr>\n",
       "      <th>1</th>\n",
       "      <td>train_landmark_files/28656/1000106739.parquet</td>\n",
       "      <td>28656</td>\n",
       "      <td>1000106739</td>\n",
       "      <td>wait</td>\n",
       "      <td>232</td>\n",
       "    </tr>\n",
       "    <tr>\n",
       "      <th>2</th>\n",
       "      <td>train_landmark_files/16069/100015657.parquet</td>\n",
       "      <td>16069</td>\n",
       "      <td>100015657</td>\n",
       "      <td>cloud</td>\n",
       "      <td>48</td>\n",
       "    </tr>\n",
       "  </tbody>\n",
       "</table>\n",
       "</div>"
      ],
      "text/plain": [
       "                                            path  participant_id  sequence_id  \\\n",
       "0  train_landmark_files/26734/1000035562.parquet           26734   1000035562   \n",
       "1  train_landmark_files/28656/1000106739.parquet           28656   1000106739   \n",
       "2   train_landmark_files/16069/100015657.parquet           16069    100015657   \n",
       "\n",
       "    sign  sign_as_int  \n",
       "0   blow           25  \n",
       "1   wait          232  \n",
       "2  cloud           48  "
      ]
     },
     "execution_count": 4,
     "metadata": {},
     "output_type": "execute_result"
    }
   ],
   "source": [
    "train_df['sign_as_int'] = train_df['sign'].map(index_map)\n",
    "train_df.head(3)"
   ]
  },
  {
   "cell_type": "code",
   "execution_count": 5,
   "id": "84e74236",
   "metadata": {
    "execution": {
     "iopub.execute_input": "2023-03-05T22:29:39.419248Z",
     "iopub.status.busy": "2023-03-05T22:29:39.418500Z",
     "iopub.status.idle": "2023-03-05T22:29:39.606053Z",
     "shell.execute_reply": "2023-03-05T22:29:39.604978Z"
    },
    "papermill": {
     "duration": 0.197492,
     "end_time": "2023-03-05T22:29:39.608382",
     "exception": false,
     "start_time": "2023-03-05T22:29:39.410890",
     "status": "completed"
    },
    "tags": []
   },
   "outputs": [
    {
     "data": {
      "text/html": [
       "<div>\n",
       "<style scoped>\n",
       "    .dataframe tbody tr th:only-of-type {\n",
       "        vertical-align: middle;\n",
       "    }\n",
       "\n",
       "    .dataframe tbody tr th {\n",
       "        vertical-align: top;\n",
       "    }\n",
       "\n",
       "    .dataframe thead th {\n",
       "        text-align: right;\n",
       "    }\n",
       "</style>\n",
       "<table border=\"1\" class=\"dataframe\">\n",
       "  <thead>\n",
       "    <tr style=\"text-align: right;\">\n",
       "      <th></th>\n",
       "      <th>frame</th>\n",
       "      <th>row_id</th>\n",
       "      <th>type</th>\n",
       "      <th>landmark_index</th>\n",
       "      <th>x</th>\n",
       "      <th>y</th>\n",
       "      <th>z</th>\n",
       "    </tr>\n",
       "  </thead>\n",
       "  <tbody>\n",
       "    <tr>\n",
       "      <th>0</th>\n",
       "      <td>103</td>\n",
       "      <td>103-face-0</td>\n",
       "      <td>face</td>\n",
       "      <td>0</td>\n",
       "      <td>0.437886</td>\n",
       "      <td>0.437599</td>\n",
       "      <td>-0.051134</td>\n",
       "    </tr>\n",
       "    <tr>\n",
       "      <th>1</th>\n",
       "      <td>103</td>\n",
       "      <td>103-face-1</td>\n",
       "      <td>face</td>\n",
       "      <td>1</td>\n",
       "      <td>0.443258</td>\n",
       "      <td>0.392901</td>\n",
       "      <td>-0.067054</td>\n",
       "    </tr>\n",
       "    <tr>\n",
       "      <th>2</th>\n",
       "      <td>103</td>\n",
       "      <td>103-face-2</td>\n",
       "      <td>face</td>\n",
       "      <td>2</td>\n",
       "      <td>0.443997</td>\n",
       "      <td>0.409998</td>\n",
       "      <td>-0.042990</td>\n",
       "    </tr>\n",
       "  </tbody>\n",
       "</table>\n",
       "</div>"
      ],
      "text/plain": [
       "   frame      row_id  type  landmark_index         x         y         z\n",
       "0    103  103-face-0  face               0  0.437886  0.437599 -0.051134\n",
       "1    103  103-face-1  face               1  0.443258  0.392901 -0.067054\n",
       "2    103  103-face-2  face               2  0.443997  0.409998 -0.042990"
      ]
     },
     "execution_count": 5,
     "metadata": {},
     "output_type": "execute_result"
    }
   ],
   "source": [
    "sign_text= train_df.sign[2]\n",
    "sam_df= pd.read_parquet('/kaggle/input/asl-signs/'+str(train_df.path[2]))\n",
    "sam_df.head(3)"
   ]
  },
  {
   "cell_type": "code",
   "execution_count": 6,
   "id": "d08da2e5",
   "metadata": {
    "execution": {
     "iopub.execute_input": "2023-03-05T22:29:39.623427Z",
     "iopub.status.busy": "2023-03-05T22:29:39.622648Z",
     "iopub.status.idle": "2023-03-05T22:29:39.634242Z",
     "shell.execute_reply": "2023-03-05T22:29:39.633193Z"
    },
    "papermill": {
     "duration": 0.02199,
     "end_time": "2023-03-05T22:29:39.636556",
     "exception": false,
     "start_time": "2023-03-05T22:29:39.614566",
     "status": "completed"
    },
    "tags": []
   },
   "outputs": [
    {
     "data": {
      "text/plain": [
       "array(['face', 'left_hand', 'pose', 'right_hand'], dtype=object)"
      ]
     },
     "execution_count": 6,
     "metadata": {},
     "output_type": "execute_result"
    }
   ],
   "source": [
    "sam_df.type.unique()"
   ]
  },
  {
   "cell_type": "code",
   "execution_count": 7,
   "id": "2ee42f44",
   "metadata": {
    "execution": {
     "iopub.execute_input": "2023-03-05T22:29:39.652155Z",
     "iopub.status.busy": "2023-03-05T22:29:39.651243Z",
     "iopub.status.idle": "2023-03-05T22:29:39.663083Z",
     "shell.execute_reply": "2023-03-05T22:29:39.662046Z"
    },
    "papermill": {
     "duration": 0.022438,
     "end_time": "2023-03-05T22:29:39.665407",
     "exception": false,
     "start_time": "2023-03-05T22:29:39.642969",
     "status": "completed"
    },
    "tags": []
   },
   "outputs": [
    {
     "data": {
      "text/plain": [
       "array([  0,   1,   2,   3,   4,   5,   6,   7,   8,   9,  10,  11,  12,\n",
       "        13,  14,  15,  16,  17,  18,  19,  20,  21,  22,  23,  24,  25,\n",
       "        26,  27,  28,  29,  30,  31,  32,  33,  34,  35,  36,  37,  38,\n",
       "        39,  40,  41,  42,  43,  44,  45,  46,  47,  48,  49,  50,  51,\n",
       "        52,  53,  54,  55,  56,  57,  58,  59,  60,  61,  62,  63,  64,\n",
       "        65,  66,  67,  68,  69,  70,  71,  72,  73,  74,  75,  76,  77,\n",
       "        78,  79,  80,  81,  82,  83,  84,  85,  86,  87,  88,  89,  90,\n",
       "        91,  92,  93,  94,  95,  96,  97,  98,  99, 100, 101, 102, 103,\n",
       "       104, 105, 106, 107, 108, 109, 110, 111, 112, 113, 114, 115, 116,\n",
       "       117, 118, 119, 120, 121, 122, 123, 124, 125, 126, 127, 128, 129,\n",
       "       130, 131, 132, 133, 134, 135, 136, 137, 138, 139, 140, 141, 142,\n",
       "       143, 144, 145, 146, 147, 148, 149, 150, 151, 152, 153, 154, 155,\n",
       "       156, 157, 158, 159, 160, 161, 162, 163, 164, 165, 166, 167, 168,\n",
       "       169, 170, 171, 172, 173, 174, 175, 176, 177, 178, 179, 180, 181,\n",
       "       182, 183, 184, 185, 186, 187, 188, 189, 190, 191, 192, 193, 194,\n",
       "       195, 196, 197, 198, 199, 200, 201, 202, 203, 204, 205, 206, 207,\n",
       "       208, 209, 210, 211, 212, 213, 214, 215, 216, 217, 218, 219, 220,\n",
       "       221, 222, 223, 224, 225, 226, 227, 228, 229, 230, 231, 232, 233,\n",
       "       234, 235, 236, 237, 238, 239, 240, 241, 242, 243, 244, 245, 246,\n",
       "       247, 248, 249, 250, 251, 252, 253, 254, 255, 256, 257, 258, 259,\n",
       "       260, 261, 262, 263, 264, 265, 266, 267, 268, 269, 270, 271, 272,\n",
       "       273, 274, 275, 276, 277, 278, 279, 280, 281, 282, 283, 284, 285,\n",
       "       286, 287, 288, 289, 290, 291, 292, 293, 294, 295, 296, 297, 298,\n",
       "       299, 300, 301, 302, 303, 304, 305, 306, 307, 308, 309, 310, 311,\n",
       "       312, 313, 314, 315, 316, 317, 318, 319, 320, 321, 322, 323, 324,\n",
       "       325, 326, 327, 328, 329, 330, 331, 332, 333, 334, 335, 336, 337,\n",
       "       338, 339, 340, 341, 342, 343, 344, 345, 346, 347, 348, 349, 350,\n",
       "       351, 352, 353, 354, 355, 356, 357, 358, 359, 360, 361, 362, 363,\n",
       "       364, 365, 366, 367, 368, 369, 370, 371, 372, 373, 374, 375, 376,\n",
       "       377, 378, 379, 380, 381, 382, 383, 384, 385, 386, 387, 388, 389,\n",
       "       390, 391, 392, 393, 394, 395, 396, 397, 398, 399, 400, 401, 402,\n",
       "       403, 404, 405, 406, 407, 408, 409, 410, 411, 412, 413, 414, 415,\n",
       "       416, 417, 418, 419, 420, 421, 422, 423, 424, 425, 426, 427, 428,\n",
       "       429, 430, 431, 432, 433, 434, 435, 436, 437, 438, 439, 440, 441,\n",
       "       442, 443, 444, 445, 446, 447, 448, 449, 450, 451, 452, 453, 454,\n",
       "       455, 456, 457, 458, 459, 460, 461, 462, 463, 464, 465, 466, 467],\n",
       "      dtype=int16)"
      ]
     },
     "execution_count": 7,
     "metadata": {},
     "output_type": "execute_result"
    }
   ],
   "source": [
    "#0~467\n",
    "sam_df.landmark_index.unique()"
   ]
  },
  {
   "cell_type": "code",
   "execution_count": 8,
   "id": "e6420de3",
   "metadata": {
    "execution": {
     "iopub.execute_input": "2023-03-05T22:29:39.681087Z",
     "iopub.status.busy": "2023-03-05T22:29:39.680248Z",
     "iopub.status.idle": "2023-03-05T22:29:39.687439Z",
     "shell.execute_reply": "2023-03-05T22:29:39.686022Z"
    },
    "papermill": {
     "duration": 0.018263,
     "end_time": "2023-03-05T22:29:39.690123",
     "exception": false,
     "start_time": "2023-03-05T22:29:39.671860",
     "status": "completed"
    },
    "tags": []
   },
   "outputs": [],
   "source": [
    "hand_fingers_points =[(0,1),(1,2),(2,3),(3,4),(0,5),(0,17),\n",
    "                      (5,6),(6,7),(7,8),(5,9),(9,10),(10,11),\n",
    "                      (11,12),(9,13),(13,14),(14,15),(15,16),\n",
    "                      (13,17),(17,18),(18,19),(19,20)]"
   ]
  },
  {
   "cell_type": "code",
   "execution_count": 9,
   "id": "646dc2e2",
   "metadata": {
    "execution": {
     "iopub.execute_input": "2023-03-05T22:29:39.705044Z",
     "iopub.status.busy": "2023-03-05T22:29:39.704535Z",
     "iopub.status.idle": "2023-03-05T22:29:39.713740Z",
     "shell.execute_reply": "2023-03-05T22:29:39.712451Z"
    },
    "papermill": {
     "duration": 0.019629,
     "end_time": "2023-03-05T22:29:39.716171",
     "exception": false,
     "start_time": "2023-03-05T22:29:39.696542",
     "status": "completed"
    },
    "tags": []
   },
   "outputs": [
    {
     "data": {
      "text/plain": [
       "array([103, 104, 105, 106, 107, 108, 109, 110, 111, 112, 113, 114, 115,\n",
       "       116, 117, 118, 119, 120, 121, 122, 123, 124, 125, 126, 127, 128,\n",
       "       129, 130, 131, 132, 133, 134, 135, 136, 137, 138, 139, 140, 141,\n",
       "       142, 143, 144, 145, 146, 147, 148, 149, 150, 151, 152, 153, 154,\n",
       "       155, 156, 157, 158, 159, 160, 161, 162, 163, 164, 165, 166, 167,\n",
       "       168, 169, 170, 171, 172, 173, 174, 175, 176, 177, 178, 179, 180,\n",
       "       181, 182, 183, 184, 185, 186, 187, 188, 189, 190, 191, 192, 193,\n",
       "       194, 195, 196, 197, 198, 199, 200, 201, 202, 203, 204, 205, 206,\n",
       "       207], dtype=int16)"
      ]
     },
     "execution_count": 9,
     "metadata": {},
     "output_type": "execute_result"
    }
   ],
   "source": [
    "sam_df.frame.unique()"
   ]
  },
  {
   "cell_type": "code",
   "execution_count": 10,
   "id": "41a03ee1",
   "metadata": {
    "execution": {
     "iopub.execute_input": "2023-03-05T22:29:39.731524Z",
     "iopub.status.busy": "2023-03-05T22:29:39.731008Z",
     "iopub.status.idle": "2023-03-05T22:29:39.762526Z",
     "shell.execute_reply": "2023-03-05T22:29:39.760930Z"
    },
    "papermill": {
     "duration": 0.04261,
     "end_time": "2023-03-05T22:29:39.765269",
     "exception": false,
     "start_time": "2023-03-05T22:29:39.722659",
     "status": "completed"
    },
    "tags": []
   },
   "outputs": [
    {
     "data": {
      "text/html": [
       "<div>\n",
       "<style scoped>\n",
       "    .dataframe tbody tr th:only-of-type {\n",
       "        vertical-align: middle;\n",
       "    }\n",
       "\n",
       "    .dataframe tbody tr th {\n",
       "        vertical-align: top;\n",
       "    }\n",
       "\n",
       "    .dataframe thead th {\n",
       "        text-align: right;\n",
       "    }\n",
       "</style>\n",
       "<table border=\"1\" class=\"dataframe\">\n",
       "  <thead>\n",
       "    <tr style=\"text-align: right;\">\n",
       "      <th></th>\n",
       "      <th>frame</th>\n",
       "      <th>row_id</th>\n",
       "      <th>type</th>\n",
       "      <th>landmark_index</th>\n",
       "      <th>x</th>\n",
       "      <th>y</th>\n",
       "      <th>z</th>\n",
       "    </tr>\n",
       "  </thead>\n",
       "  <tbody>\n",
       "    <tr>\n",
       "      <th>468</th>\n",
       "      <td>103</td>\n",
       "      <td>103-left_hand-0</td>\n",
       "      <td>left_hand</td>\n",
       "      <td>0</td>\n",
       "      <td>0.903850</td>\n",
       "      <td>0.686351</td>\n",
       "      <td>-2.993881e-07</td>\n",
       "    </tr>\n",
       "    <tr>\n",
       "      <th>469</th>\n",
       "      <td>103</td>\n",
       "      <td>103-left_hand-1</td>\n",
       "      <td>left_hand</td>\n",
       "      <td>1</td>\n",
       "      <td>0.812678</td>\n",
       "      <td>0.626594</td>\n",
       "      <td>4.002348e-03</td>\n",
       "    </tr>\n",
       "    <tr>\n",
       "      <th>470</th>\n",
       "      <td>103</td>\n",
       "      <td>103-left_hand-2</td>\n",
       "      <td>left_hand</td>\n",
       "      <td>2</td>\n",
       "      <td>0.728513</td>\n",
       "      <td>0.588752</td>\n",
       "      <td>-6.392229e-03</td>\n",
       "    </tr>\n",
       "    <tr>\n",
       "      <th>471</th>\n",
       "      <td>103</td>\n",
       "      <td>103-left_hand-3</td>\n",
       "      <td>left_hand</td>\n",
       "      <td>3</td>\n",
       "      <td>0.651862</td>\n",
       "      <td>0.586241</td>\n",
       "      <td>-2.300651e-02</td>\n",
       "    </tr>\n",
       "    <tr>\n",
       "      <th>472</th>\n",
       "      <td>103</td>\n",
       "      <td>103-left_hand-4</td>\n",
       "      <td>left_hand</td>\n",
       "      <td>4</td>\n",
       "      <td>0.588590</td>\n",
       "      <td>0.591355</td>\n",
       "      <td>-3.957435e-02</td>\n",
       "    </tr>\n",
       "    <tr>\n",
       "      <th>...</th>\n",
       "      <td>...</td>\n",
       "      <td>...</td>\n",
       "      <td>...</td>\n",
       "      <td>...</td>\n",
       "      <td>...</td>\n",
       "      <td>...</td>\n",
       "      <td>...</td>\n",
       "    </tr>\n",
       "    <tr>\n",
       "      <th>56956</th>\n",
       "      <td>207</td>\n",
       "      <td>207-left_hand-16</td>\n",
       "      <td>left_hand</td>\n",
       "      <td>16</td>\n",
       "      <td>0.831872</td>\n",
       "      <td>0.529663</td>\n",
       "      <td>-5.417912e-02</td>\n",
       "    </tr>\n",
       "    <tr>\n",
       "      <th>56957</th>\n",
       "      <td>207</td>\n",
       "      <td>207-left_hand-17</td>\n",
       "      <td>left_hand</td>\n",
       "      <td>17</td>\n",
       "      <td>0.966463</td>\n",
       "      <td>0.458484</td>\n",
       "      <td>-5.181588e-02</td>\n",
       "    </tr>\n",
       "    <tr>\n",
       "      <th>56958</th>\n",
       "      <td>207</td>\n",
       "      <td>207-left_hand-18</td>\n",
       "      <td>left_hand</td>\n",
       "      <td>18</td>\n",
       "      <td>0.917677</td>\n",
       "      <td>0.468401</td>\n",
       "      <td>-8.893237e-02</td>\n",
       "    </tr>\n",
       "    <tr>\n",
       "      <th>56959</th>\n",
       "      <td>207</td>\n",
       "      <td>207-left_hand-19</td>\n",
       "      <td>left_hand</td>\n",
       "      <td>19</td>\n",
       "      <td>0.882650</td>\n",
       "      <td>0.505012</td>\n",
       "      <td>-8.020309e-02</td>\n",
       "    </tr>\n",
       "    <tr>\n",
       "      <th>56960</th>\n",
       "      <td>207</td>\n",
       "      <td>207-left_hand-20</td>\n",
       "      <td>left_hand</td>\n",
       "      <td>20</td>\n",
       "      <td>0.871779</td>\n",
       "      <td>0.526397</td>\n",
       "      <td>-6.318174e-02</td>\n",
       "    </tr>\n",
       "  </tbody>\n",
       "</table>\n",
       "<p>2205 rows × 7 columns</p>\n",
       "</div>"
      ],
      "text/plain": [
       "       frame            row_id       type  landmark_index         x         y  \\\n",
       "468      103   103-left_hand-0  left_hand               0  0.903850  0.686351   \n",
       "469      103   103-left_hand-1  left_hand               1  0.812678  0.626594   \n",
       "470      103   103-left_hand-2  left_hand               2  0.728513  0.588752   \n",
       "471      103   103-left_hand-3  left_hand               3  0.651862  0.586241   \n",
       "472      103   103-left_hand-4  left_hand               4  0.588590  0.591355   \n",
       "...      ...               ...        ...             ...       ...       ...   \n",
       "56956    207  207-left_hand-16  left_hand              16  0.831872  0.529663   \n",
       "56957    207  207-left_hand-17  left_hand              17  0.966463  0.458484   \n",
       "56958    207  207-left_hand-18  left_hand              18  0.917677  0.468401   \n",
       "56959    207  207-left_hand-19  left_hand              19  0.882650  0.505012   \n",
       "56960    207  207-left_hand-20  left_hand              20  0.871779  0.526397   \n",
       "\n",
       "                  z  \n",
       "468   -2.993881e-07  \n",
       "469    4.002348e-03  \n",
       "470   -6.392229e-03  \n",
       "471   -2.300651e-02  \n",
       "472   -3.957435e-02  \n",
       "...             ...  \n",
       "56956 -5.417912e-02  \n",
       "56957 -5.181588e-02  \n",
       "56958 -8.893237e-02  \n",
       "56959 -8.020309e-02  \n",
       "56960 -6.318174e-02  \n",
       "\n",
       "[2205 rows x 7 columns]"
      ]
     },
     "execution_count": 10,
     "metadata": {},
     "output_type": "execute_result"
    }
   ],
   "source": [
    "sam_df_left_hand_df = sam_df[sam_df.type=='left_hand']\n",
    "sam_df_left_hand_df"
   ]
  },
  {
   "cell_type": "code",
   "execution_count": 11,
   "id": "05e764f2",
   "metadata": {
    "execution": {
     "iopub.execute_input": "2023-03-05T22:29:39.782664Z",
     "iopub.status.busy": "2023-03-05T22:29:39.782174Z",
     "iopub.status.idle": "2023-03-05T22:29:39.791338Z",
     "shell.execute_reply": "2023-03-05T22:29:39.789847Z"
    },
    "papermill": {
     "duration": 0.021805,
     "end_time": "2023-03-05T22:29:39.793879",
     "exception": false,
     "start_time": "2023-03-05T22:29:39.772074",
     "status": "completed"
    },
    "tags": []
   },
   "outputs": [
    {
     "data": {
      "text/plain": [
       "array([103, 104, 105, 106, 107, 108, 109, 110, 111, 112, 113, 114, 115,\n",
       "       116, 117, 118, 119, 120, 121, 122, 123, 124, 125, 126, 127, 128,\n",
       "       129, 130, 131, 132, 133, 134, 135, 136, 137, 138, 139, 140, 141,\n",
       "       142, 143, 144, 145, 146, 147, 148, 149, 150, 151, 152, 153, 154,\n",
       "       155, 156, 157, 158, 159, 160, 161, 162, 163, 164, 165, 166, 167,\n",
       "       168, 169, 170, 171, 172, 173, 174, 175, 176, 177, 178, 179, 180,\n",
       "       181, 182, 183, 184, 185, 186, 187, 188, 189, 190, 191, 192, 193,\n",
       "       194, 195, 196, 197, 198, 199, 200, 201, 202, 203, 204, 205, 206,\n",
       "       207], dtype=int16)"
      ]
     },
     "execution_count": 11,
     "metadata": {},
     "output_type": "execute_result"
    }
   ],
   "source": [
    "sam_df_left_hand_df.frame.unique()"
   ]
  },
  {
   "cell_type": "code",
   "execution_count": 12,
   "id": "fba6e1ba",
   "metadata": {
    "execution": {
     "iopub.execute_input": "2023-03-05T22:29:39.810366Z",
     "iopub.status.busy": "2023-03-05T22:29:39.809883Z",
     "iopub.status.idle": "2023-03-05T22:29:39.819933Z",
     "shell.execute_reply": "2023-03-05T22:29:39.818426Z"
    },
    "papermill": {
     "duration": 0.021783,
     "end_time": "2023-03-05T22:29:39.822661",
     "exception": false,
     "start_time": "2023-03-05T22:29:39.800878",
     "status": "completed"
    },
    "tags": []
   },
   "outputs": [],
   "source": [
    "def visualize_hand_graph(df, frame_number, ax):\n",
    "    df = df[df.frame==frame_number]\n",
    "    x = df['x'].values\n",
    "    y = df['y'].values\n",
    "    x,y = x.tolist(), y.tolist()\n",
    "    ax.scatter(x, y, color='dodgerblue')\n",
    "    for i in range(len(x)):\n",
    "        ax.text(x[i], y[i], str(i))\n",
    "    for edge in hand_fingers_points:\n",
    "        ax.plot([x[edge[0]], x[edge[1]]],\n",
    "                [y[edge[0]], y[edge[1]]], color='salmon')\n",
    "        ax.set_xlabel('frame:' +str(frame_number))\n",
    "        ax.set_xticks([])\n",
    "        ax.set_yticks([])\n",
    "        ax.set_xticklabels([])\n",
    "        ax.set_yticklabels([])"
   ]
  },
  {
   "cell_type": "code",
   "execution_count": 13,
   "id": "269e2158",
   "metadata": {
    "execution": {
     "iopub.execute_input": "2023-03-05T22:29:39.839246Z",
     "iopub.status.busy": "2023-03-05T22:29:39.838768Z",
     "iopub.status.idle": "2023-03-05T22:29:40.069127Z",
     "shell.execute_reply": "2023-03-05T22:29:40.067843Z"
    },
    "papermill": {
     "duration": 0.242647,
     "end_time": "2023-03-05T22:29:40.072264",
     "exception": false,
     "start_time": "2023-03-05T22:29:39.829617",
     "status": "completed"
    },
    "tags": []
   },
   "outputs": [
    {
     "name": "stdout",
     "output_type": "stream",
     "text": [
      "Sign Text:cloud\n"
     ]
    },
    {
     "data": {
      "image/png": "[encoded data removed]",
      "text/plain": [
       "<Figure size 500x500 with 1 Axes>"
      ]
     },
     "metadata": {},
     "output_type": "display_data"
    }
   ],
   "source": [
    "fig, ax = plt.subplots(1, figsize=(5,5))\n",
    "print('Sign Text:' + str(sign_text))\n",
    "visualize_hand_graph(sam_df_left_hand_df,sam_df_left_hand_df.frame.values[0], ax)"
   ]
  },
  {
   "cell_type": "code",
   "execution_count": 14,
   "id": "7afb9e14",
   "metadata": {
    "execution": {
     "iopub.execute_input": "2023-03-05T22:29:40.098954Z",
     "iopub.status.busy": "2023-03-05T22:29:40.098187Z",
     "iopub.status.idle": "2023-03-05T22:29:40.113311Z",
     "shell.execute_reply": "2023-03-05T22:29:40.112315Z"
    },
    "papermill": {
     "duration": 0.030874,
     "end_time": "2023-03-05T22:29:40.115802",
     "exception": false,
     "start_time": "2023-03-05T22:29:40.084928",
     "status": "completed"
    },
    "tags": []
   },
   "outputs": [
    {
     "data": {
      "text/html": [
       "<div>\n",
       "<style scoped>\n",
       "    .dataframe tbody tr th:only-of-type {\n",
       "        vertical-align: middle;\n",
       "    }\n",
       "\n",
       "    .dataframe tbody tr th {\n",
       "        vertical-align: top;\n",
       "    }\n",
       "\n",
       "    .dataframe thead th {\n",
       "        text-align: right;\n",
       "    }\n",
       "</style>\n",
       "<table border=\"1\" class=\"dataframe\">\n",
       "  <thead>\n",
       "    <tr style=\"text-align: right;\">\n",
       "      <th></th>\n",
       "      <th>path</th>\n",
       "      <th>participant_id</th>\n",
       "      <th>sequence_id</th>\n",
       "      <th>sign</th>\n",
       "      <th>sign_as_int</th>\n",
       "    </tr>\n",
       "  </thead>\n",
       "  <tbody>\n",
       "    <tr>\n",
       "      <th>0</th>\n",
       "      <td>train_landmark_files/26734/1000035562.parquet</td>\n",
       "      <td>26734</td>\n",
       "      <td>1000035562</td>\n",
       "      <td>blow</td>\n",
       "      <td>25</td>\n",
       "    </tr>\n",
       "    <tr>\n",
       "      <th>1</th>\n",
       "      <td>train_landmark_files/28656/1000106739.parquet</td>\n",
       "      <td>28656</td>\n",
       "      <td>1000106739</td>\n",
       "      <td>wait</td>\n",
       "      <td>232</td>\n",
       "    </tr>\n",
       "    <tr>\n",
       "      <th>2</th>\n",
       "      <td>train_landmark_files/16069/100015657.parquet</td>\n",
       "      <td>16069</td>\n",
       "      <td>100015657</td>\n",
       "      <td>cloud</td>\n",
       "      <td>48</td>\n",
       "    </tr>\n",
       "    <tr>\n",
       "      <th>3</th>\n",
       "      <td>train_landmark_files/25571/1000210073.parquet</td>\n",
       "      <td>25571</td>\n",
       "      <td>1000210073</td>\n",
       "      <td>bird</td>\n",
       "      <td>23</td>\n",
       "    </tr>\n",
       "    <tr>\n",
       "      <th>4</th>\n",
       "      <td>train_landmark_files/62590/1000240708.parquet</td>\n",
       "      <td>62590</td>\n",
       "      <td>1000240708</td>\n",
       "      <td>owie</td>\n",
       "      <td>164</td>\n",
       "    </tr>\n",
       "  </tbody>\n",
       "</table>\n",
       "</div>"
      ],
      "text/plain": [
       "                                            path  participant_id  sequence_id  \\\n",
       "0  train_landmark_files/26734/1000035562.parquet           26734   1000035562   \n",
       "1  train_landmark_files/28656/1000106739.parquet           28656   1000106739   \n",
       "2   train_landmark_files/16069/100015657.parquet           16069    100015657   \n",
       "3  train_landmark_files/25571/1000210073.parquet           25571   1000210073   \n",
       "4  train_landmark_files/62590/1000240708.parquet           62590   1000240708   \n",
       "\n",
       "    sign  sign_as_int  \n",
       "0   blow           25  \n",
       "1   wait          232  \n",
       "2  cloud           48  \n",
       "3   bird           23  \n",
       "4   owie          164  "
      ]
     },
     "execution_count": 14,
     "metadata": {},
     "output_type": "execute_result"
    }
   ],
   "source": [
    "train_df.head()"
   ]
  },
  {
   "cell_type": "code",
   "execution_count": 15,
   "id": "c6602b4b",
   "metadata": {
    "execution": {
     "iopub.execute_input": "2023-03-05T22:29:40.133607Z",
     "iopub.status.busy": "2023-03-05T22:29:40.132920Z",
     "iopub.status.idle": "2023-03-05T22:29:40.142100Z",
     "shell.execute_reply": "2023-03-05T22:29:40.140761Z"
    },
    "papermill": {
     "duration": 0.020984,
     "end_time": "2023-03-05T22:29:40.144565",
     "exception": false,
     "start_time": "2023-03-05T22:29:40.123581",
     "status": "completed"
    },
    "tags": []
   },
   "outputs": [
    {
     "data": {
      "text/plain": [
       "array([26734, 28656, 16069, 25571, 62590, 32319, 37055, 29302, 49445,\n",
       "       36257, 22343, 27610, 61333, 53618, 34503, 18796,  4718, 55372,\n",
       "        2044, 37779, 30680])"
      ]
     },
     "execution_count": 15,
     "metadata": {},
     "output_type": "execute_result"
    }
   ],
   "source": [
    "train_df.participant_id.unique()"
   ]
  },
  {
   "cell_type": "code",
   "execution_count": 16,
   "id": "532de78e",
   "metadata": {
    "execution": {
     "iopub.execute_input": "2023-03-05T22:29:40.163631Z",
     "iopub.status.busy": "2023-03-05T22:29:40.162958Z",
     "iopub.status.idle": "2023-03-05T22:29:40.178558Z",
     "shell.execute_reply": "2023-03-05T22:29:40.177463Z"
    },
    "papermill": {
     "duration": 0.028298,
     "end_time": "2023-03-05T22:29:40.180883",
     "exception": false,
     "start_time": "2023-03-05T22:29:40.152585",
     "status": "completed"
    },
    "tags": []
   },
   "outputs": [
    {
     "data": {
      "text/plain": [
       "250"
      ]
     },
     "execution_count": 16,
     "metadata": {},
     "output_type": "execute_result"
    }
   ],
   "source": [
    "len(train_df.sign.unique())"
   ]
  },
  {
   "cell_type": "code",
   "execution_count": 17,
   "id": "e82ad9fd",
   "metadata": {
    "execution": {
     "iopub.execute_input": "2023-03-05T22:29:40.199549Z",
     "iopub.status.busy": "2023-03-05T22:29:40.198845Z",
     "iopub.status.idle": "2023-03-05T22:29:40.206098Z",
     "shell.execute_reply": "2023-03-05T22:29:40.204978Z"
    },
    "papermill": {
     "duration": 0.019608,
     "end_time": "2023-03-05T22:29:40.208714",
     "exception": false,
     "start_time": "2023-03-05T22:29:40.189106",
     "status": "completed"
    },
    "tags": []
   },
   "outputs": [
    {
     "data": {
      "text/plain": [
       "(94477, 5)"
      ]
     },
     "execution_count": 17,
     "metadata": {},
     "output_type": "execute_result"
    }
   ],
   "source": [
    "train_df.shape"
   ]
  },
  {
   "cell_type": "code",
   "execution_count": 18,
   "id": "35450ab0",
   "metadata": {
    "execution": {
     "iopub.execute_input": "2023-03-05T22:29:40.227256Z",
     "iopub.status.busy": "2023-03-05T22:29:40.226843Z",
     "iopub.status.idle": "2023-03-05T22:29:40.231605Z",
     "shell.execute_reply": "2023-03-05T22:29:40.230462Z"
    },
    "papermill": {
     "duration": 0.017023,
     "end_time": "2023-03-05T22:29:40.234202",
     "exception": false,
     "start_time": "2023-03-05T22:29:40.217179",
     "status": "completed"
    },
    "tags": []
   },
   "outputs": [],
   "source": [
    "# unique_frame_num_list =[]\n",
    "# for i in range(len(train_df)):\n",
    "#     df= pd.read_parquet('/kaggle/input/asl-signs/'+str(train_df.path[i]))\n",
    "#     unique_frame_num_list.append(len(df['frame'].unique()))"
   ]
  },
  {
   "cell_type": "code",
   "execution_count": 19,
   "id": "5d75ddf8",
   "metadata": {
    "execution": {
     "iopub.execute_input": "2023-03-05T22:29:40.252412Z",
     "iopub.status.busy": "2023-03-05T22:29:40.251982Z",
     "iopub.status.idle": "2023-03-05T22:29:40.256626Z",
     "shell.execute_reply": "2023-03-05T22:29:40.255718Z"
    },
    "papermill": {
     "duration": 0.01624,
     "end_time": "2023-03-05T22:29:40.258722",
     "exception": false,
     "start_time": "2023-03-05T22:29:40.242482",
     "status": "completed"
    },
    "tags": []
   },
   "outputs": [],
   "source": [
    "# train_df['frame_num'] = unique_frame_num_list"
   ]
  },
  {
   "cell_type": "code",
   "execution_count": 20,
   "id": "2cee37b2",
   "metadata": {
    "execution": {
     "iopub.execute_input": "2023-03-05T22:29:40.277702Z",
     "iopub.status.busy": "2023-03-05T22:29:40.277276Z",
     "iopub.status.idle": "2023-03-05T22:29:40.288997Z",
     "shell.execute_reply": "2023-03-05T22:29:40.287890Z"
    },
    "papermill": {
     "duration": 0.023784,
     "end_time": "2023-03-05T22:29:40.291100",
     "exception": false,
     "start_time": "2023-03-05T22:29:40.267316",
     "status": "completed"
    },
    "tags": []
   },
   "outputs": [
    {
     "data": {
      "text/html": [
       "<div>\n",
       "<style scoped>\n",
       "    .dataframe tbody tr th:only-of-type {\n",
       "        vertical-align: middle;\n",
       "    }\n",
       "\n",
       "    .dataframe tbody tr th {\n",
       "        vertical-align: top;\n",
       "    }\n",
       "\n",
       "    .dataframe thead th {\n",
       "        text-align: right;\n",
       "    }\n",
       "</style>\n",
       "<table border=\"1\" class=\"dataframe\">\n",
       "  <thead>\n",
       "    <tr style=\"text-align: right;\">\n",
       "      <th></th>\n",
       "      <th>path</th>\n",
       "      <th>participant_id</th>\n",
       "      <th>sequence_id</th>\n",
       "      <th>sign</th>\n",
       "      <th>sign_as_int</th>\n",
       "    </tr>\n",
       "  </thead>\n",
       "  <tbody>\n",
       "    <tr>\n",
       "      <th>0</th>\n",
       "      <td>train_landmark_files/26734/1000035562.parquet</td>\n",
       "      <td>26734</td>\n",
       "      <td>1000035562</td>\n",
       "      <td>blow</td>\n",
       "      <td>25</td>\n",
       "    </tr>\n",
       "    <tr>\n",
       "      <th>1</th>\n",
       "      <td>train_landmark_files/28656/1000106739.parquet</td>\n",
       "      <td>28656</td>\n",
       "      <td>1000106739</td>\n",
       "      <td>wait</td>\n",
       "      <td>232</td>\n",
       "    </tr>\n",
       "    <tr>\n",
       "      <th>2</th>\n",
       "      <td>train_landmark_files/16069/100015657.parquet</td>\n",
       "      <td>16069</td>\n",
       "      <td>100015657</td>\n",
       "      <td>cloud</td>\n",
       "      <td>48</td>\n",
       "    </tr>\n",
       "    <tr>\n",
       "      <th>3</th>\n",
       "      <td>train_landmark_files/25571/1000210073.parquet</td>\n",
       "      <td>25571</td>\n",
       "      <td>1000210073</td>\n",
       "      <td>bird</td>\n",
       "      <td>23</td>\n",
       "    </tr>\n",
       "    <tr>\n",
       "      <th>4</th>\n",
       "      <td>train_landmark_files/62590/1000240708.parquet</td>\n",
       "      <td>62590</td>\n",
       "      <td>1000240708</td>\n",
       "      <td>owie</td>\n",
       "      <td>164</td>\n",
       "    </tr>\n",
       "  </tbody>\n",
       "</table>\n",
       "</div>"
      ],
      "text/plain": [
       "                                            path  participant_id  sequence_id  \\\n",
       "0  train_landmark_files/26734/1000035562.parquet           26734   1000035562   \n",
       "1  train_landmark_files/28656/1000106739.parquet           28656   1000106739   \n",
       "2   train_landmark_files/16069/100015657.parquet           16069    100015657   \n",
       "3  train_landmark_files/25571/1000210073.parquet           25571   1000210073   \n",
       "4  train_landmark_files/62590/1000240708.parquet           62590   1000240708   \n",
       "\n",
       "    sign  sign_as_int  \n",
       "0   blow           25  \n",
       "1   wait          232  \n",
       "2  cloud           48  \n",
       "3   bird           23  \n",
       "4   owie          164  "
      ]
     },
     "execution_count": 20,
     "metadata": {},
     "output_type": "execute_result"
    }
   ],
   "source": [
    "train_df.head()"
   ]
  },
  {
   "cell_type": "code",
   "execution_count": 21,
   "id": "92f9136c",
   "metadata": {
    "execution": {
     "iopub.execute_input": "2023-03-05T22:29:40.310427Z",
     "iopub.status.busy": "2023-03-05T22:29:40.309979Z",
     "iopub.status.idle": "2023-03-05T22:29:40.572995Z",
     "shell.execute_reply": "2023-03-05T22:29:40.571784Z"
    },
    "papermill": {
     "duration": 0.2766,
     "end_time": "2023-03-05T22:29:40.576030",
     "exception": false,
     "start_time": "2023-03-05T22:29:40.299430",
     "status": "completed"
    },
    "tags": []
   },
   "outputs": [],
   "source": [
    "train_df.to_csv('train_mod.csv',index=False)"
   ]
  }
 ],
 "metadata": {
  "kernelspec": {
   "display_name": "Python 3",
   "language": "python",
   "name": "python3"
  },
  "language_info": {
   "codemirror_mode": {
    "name": "ipython",
    "version": 3
   },
   "file_extension": ".py",
   "mimetype": "text/x-python",
   "name": "python",
   "nbconvert_exporter": "python",
   "pygments_lexer": "ipython3",
   "version": "3.7.12"
  },
  "papermill": {
   "default_parameters": {},
   "duration": 23.691886,
   "end_time": "2023-03-05T22:29:43.234061",
   "environment_variables": {},
   "exception": null,
   "input_path": "__notebook__.ipynb",
   "output_path": "__notebook__.ipynb",
   "parameters": {},
   "start_time": "2023-03-05T22:29:19.542175",
   "version": "2.4.0"
  }
 },
 "nbformat": 4,
 "nbformat_minor": 5
}
