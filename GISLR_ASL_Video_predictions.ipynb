{
 "cells": [
  {
   "cell_type": "code",
   "execution_count": 1,
   "metadata": {},
   "outputs": [],
   "source": [
    "#Based on https://www.kaggle.com/code/hengck23/generate-your-own-pose-data-from-video"
   ]
  },
  {
   "cell_type": "code",
   "execution_count": 2,
   "metadata": {},
   "outputs": [],
   "source": [
    "import cv2\n",
    "import mediapipe as mp \n",
    "import numpy as np\n",
    "import pandas as pd\n",
    "from tensorflow.lite.python.interpreter import Interpreter\n",
    "import json"
   ]
  },
  {
   "cell_type": "code",
   "execution_count": 3,
   "metadata": {},
   "outputs": [],
   "source": [
    "mp_drawing = mp.solutions.drawing_utils\n",
    "mp_holistic = mp.solutions.holistic "
   ]
  },
  {
   "cell_type": "code",
   "execution_count": 4,
   "metadata": {},
   "outputs": [],
   "source": [
    "Truth_value = 'COW'"
   ]
  },
  {
   "cell_type": "code",
   "execution_count": 5,
   "metadata": {},
   "outputs": [],
   "source": [
    "video_file = 'sign_mp4/COW.mp4'\n",
    "cap = cv2.VideoCapture(video_file)\n",
    "holistic = mp_holistic.Holistic(min_detection_confidence=0.5, min_tracking_confidence=0.1)"
   ]
  },
  {
   "cell_type": "code",
   "execution_count": 6,
   "metadata": {
    "_cell_guid": "b1076dfc-b9ad-4769-8c92-a6c4dae69d19",
    "_uuid": "8f2839f25d086af736a60e9eeb907d3b93b6e0e5"
   },
   "outputs": [
    {
     "name": "stdout",
     "output_type": "stream",
     "text": [
      " 78"
     ]
    }
   ],
   "source": [
    "video_df = []\n",
    "frame_no=0\n",
    "while cap.isOpened():\n",
    "    print('\\r',frame_no,end='')\n",
    "    success, image = cap.read()\n",
    "\n",
    "    if not success: break\n",
    "    image = cv2.resize(image, dsize=None, fx=4, fy=4)\n",
    "    height,width,_ = image.shape\n",
    "\n",
    "    #print(image.shape)\n",
    "    image.flags.writeable = False\n",
    "    image = cv2.cvtColor(image, cv2.COLOR_BGR2RGB)\n",
    "    result = holistic.process(image)\n",
    "\n",
    "    data = [] \n",
    "    fy = height/width\n",
    "\n",
    "    if result.face_landmarks is None:\n",
    "        for i in range(468): #\n",
    "            data.append({\n",
    "                'type' : 'face',\n",
    "                'landmark_index' : i,\n",
    "                'x' : np.nan,\n",
    "                'y' : np.nan,\n",
    "                'z' : np.nan,\n",
    "            })\n",
    "    else:\n",
    "        assert(len(result.face_landmarks.landmark)==468)\n",
    "        for i in range(468): #\n",
    "            xyz = result.face_landmarks.landmark[i]\n",
    "            data.append({\n",
    "                'type' : 'face',\n",
    "                'landmark_index' : i,\n",
    "                'x' : xyz.x,\n",
    "                'y' : xyz.y *fy,\n",
    "                'z' : xyz.z,\n",
    "            })\n",
    "\n",
    "    if result.left_hand_landmarks is None:\n",
    "        for i in range(21):  #\n",
    "            data.append({\n",
    "                'type': 'left_hand',\n",
    "                'landmark_index': i,\n",
    "                'x': np.nan,\n",
    "                'y': np.nan,\n",
    "                'z': np.nan,\n",
    "            })\n",
    "    else:\n",
    "        assert (len(result.left_hand_landmarks.landmark) == 21)\n",
    "        for i in range(21):  #\n",
    "            xyz = result.left_hand_landmarks.landmark[i]\n",
    "            data.append({\n",
    "                'type': 'left_hand',\n",
    "                'landmark_index': i,\n",
    "                'x': xyz.x,\n",
    "                'y': xyz.y *fy,\n",
    "                'z': xyz.z,\n",
    "            })\n",
    "\n",
    "    if result.pose_landmarks is None:\n",
    "        for i in range(33):  #\n",
    "            data.append({\n",
    "                'type': 'pose',\n",
    "                'landmark_index': i,\n",
    "                'x': np.nan,\n",
    "                'y': np.nan,\n",
    "                'z': np.nan,\n",
    "            })\n",
    "    else:\n",
    "        assert (len(result.pose_landmarks.landmark) == 33)\n",
    "        for i in range(33):  #\n",
    "            xyz = result.pose_landmarks.landmark[i]\n",
    "            data.append({\n",
    "                'type': 'pose',\n",
    "                'landmark_index': i,\n",
    "                'x': xyz.x,\n",
    "                'y': xyz.y *fy,\n",
    "                'z': xyz.z,\n",
    "            })\n",
    "\n",
    "    if result.right_hand_landmarks is None:\n",
    "        for i in range(21):  #\n",
    "            data.append({\n",
    "                'type': 'right_hand',\n",
    "                'landmark_index': i,\n",
    "                'x': np.nan,\n",
    "                'y': np.nan,\n",
    "                'z': np.nan,\n",
    "            })\n",
    "    else:\n",
    "        assert (len(result.right_hand_landmarks.landmark) == 21)\n",
    "        for i in range(21):  #\n",
    "            xyz = result.right_hand_landmarks.landmark[i]\n",
    "            data.append({\n",
    "                'type': 'right_hand',\n",
    "                'landmark_index': i,\n",
    "                'x': xyz.x,\n",
    "                'y': xyz.y *fy,\n",
    "                'z': xyz.z,\n",
    "            })\n",
    "        zz=0\n",
    "\n",
    "    frame_df = pd.DataFrame(data)\n",
    "    frame_df.loc[:,'frame'] =  frame_no\n",
    "    frame_df.loc[:, 'height'] = height/width\n",
    "    frame_df.loc[:, 'width'] = width/width\n",
    "    video_df.append(frame_df)\n",
    "\n",
    "    frame_no +=1"
   ]
  },
  {
   "cell_type": "code",
   "execution_count": 7,
   "metadata": {},
   "outputs": [],
   "source": [
    "video_df = pd.concat(video_df)"
   ]
  },
  {
   "cell_type": "code",
   "execution_count": 8,
   "metadata": {
    "scrolled": true
   },
   "outputs": [
    {
     "data": {
      "text/html": [
       "<div>\n",
       "<style scoped>\n",
       "    .dataframe tbody tr th:only-of-type {\n",
       "        vertical-align: middle;\n",
       "    }\n",
       "\n",
       "    .dataframe tbody tr th {\n",
       "        vertical-align: top;\n",
       "    }\n",
       "\n",
       "    .dataframe thead th {\n",
       "        text-align: right;\n",
       "    }\n",
       "</style>\n",
       "<table border=\"1\" class=\"dataframe\">\n",
       "  <thead>\n",
       "    <tr style=\"text-align: right;\">\n",
       "      <th></th>\n",
       "      <th>type</th>\n",
       "      <th>landmark_index</th>\n",
       "      <th>x</th>\n",
       "      <th>y</th>\n",
       "      <th>z</th>\n",
       "      <th>frame</th>\n",
       "      <th>height</th>\n",
       "      <th>width</th>\n",
       "    </tr>\n",
       "  </thead>\n",
       "  <tbody>\n",
       "    <tr>\n",
       "      <th>0</th>\n",
       "      <td>face</td>\n",
       "      <td>0</td>\n",
       "      <td>0.511491</td>\n",
       "      <td>0.176394</td>\n",
       "      <td>-0.009212</td>\n",
       "      <td>0</td>\n",
       "      <td>0.5625</td>\n",
       "      <td>1.0</td>\n",
       "    </tr>\n",
       "    <tr>\n",
       "      <th>1</th>\n",
       "      <td>face</td>\n",
       "      <td>1</td>\n",
       "      <td>0.511283</td>\n",
       "      <td>0.162703</td>\n",
       "      <td>-0.023297</td>\n",
       "      <td>0</td>\n",
       "      <td>0.5625</td>\n",
       "      <td>1.0</td>\n",
       "    </tr>\n",
       "    <tr>\n",
       "      <th>2</th>\n",
       "      <td>face</td>\n",
       "      <td>2</td>\n",
       "      <td>0.511493</td>\n",
       "      <td>0.166513</td>\n",
       "      <td>-0.011153</td>\n",
       "      <td>0</td>\n",
       "      <td>0.5625</td>\n",
       "      <td>1.0</td>\n",
       "    </tr>\n",
       "    <tr>\n",
       "      <th>3</th>\n",
       "      <td>face</td>\n",
       "      <td>3</td>\n",
       "      <td>0.508465</td>\n",
       "      <td>0.143842</td>\n",
       "      <td>-0.018881</td>\n",
       "      <td>0</td>\n",
       "      <td>0.5625</td>\n",
       "      <td>1.0</td>\n",
       "    </tr>\n",
       "    <tr>\n",
       "      <th>4</th>\n",
       "      <td>face</td>\n",
       "      <td>4</td>\n",
       "      <td>0.511475</td>\n",
       "      <td>0.157312</td>\n",
       "      <td>-0.025251</td>\n",
       "      <td>0</td>\n",
       "      <td>0.5625</td>\n",
       "      <td>1.0</td>\n",
       "    </tr>\n",
       "  </tbody>\n",
       "</table>\n",
       "</div>"
      ],
      "text/plain": [
       "   type  landmark_index         x         y         z  frame  height  width\n",
       "0  face               0  0.511491  0.176394 -0.009212      0  0.5625    1.0\n",
       "1  face               1  0.511283  0.162703 -0.023297      0  0.5625    1.0\n",
       "2  face               2  0.511493  0.166513 -0.011153      0  0.5625    1.0\n",
       "3  face               3  0.508465  0.143842 -0.018881      0  0.5625    1.0\n",
       "4  face               4  0.511475  0.157312 -0.025251      0  0.5625    1.0"
      ]
     },
     "execution_count": 8,
     "metadata": {},
     "output_type": "execute_result"
    }
   ],
   "source": [
    "video_df.head()"
   ]
  },
  {
   "cell_type": "code",
   "execution_count": 9,
   "metadata": {},
   "outputs": [],
   "source": [
    "ROWS_PER_FRAME = 543  # number of landmarks per frame\n",
    "def load_relevant_data_subset(pq_path):\n",
    "    data_columns = ['x', 'y', 'z']\n",
    "    data = pq_path[data_columns] #pd.read_csv(pq_path, usecols=data_columns)\n",
    "    n_frames = int(len(data) / ROWS_PER_FRAME)\n",
    "    data = data.values.reshape(n_frames, ROWS_PER_FRAME, len(data_columns))\n",
    "    return data.astype(np.float32)"
   ]
  },
  {
   "cell_type": "code",
   "execution_count": 10,
   "metadata": {},
   "outputs": [],
   "source": [
    "def read_json_file(file_path):\n",
    "    try:\n",
    "        # Open the file and load the JSON data into a Python object\n",
    "        with open(file_path, 'r') as file:\n",
    "            json_data = json.load(file)\n",
    "        return json_data\n",
    "    except FileNotFoundError:\n",
    "        # Raise an error if the file path does not exist\n",
    "        raise FileNotFoundError(f\"File not found: {file_path}\")\n",
    "    except ValueError:\n",
    "        # Raise an error if the file does not contain valid JSON data\n",
    "        raise ValueError(f\"Invalid JSON data in file: {file_path}\")"
   ]
  },
  {
   "cell_type": "code",
   "execution_count": 11,
   "metadata": {},
   "outputs": [],
   "source": [
    "interpreter = Interpreter(\"model.tflite\")\n",
    "found_signatures = list(interpreter.get_signature_list().keys())\n",
    "prediction_fn = interpreter.get_signature_runner(\"serving_default\")"
   ]
  },
  {
   "cell_type": "code",
   "execution_count": 12,
   "metadata": {},
   "outputs": [],
   "source": [
    "decoder = {v: k for k, v in read_json_file(\"sign_to_prediction_index_map.json\").items()}"
   ]
  },
  {
   "cell_type": "code",
   "execution_count": 13,
   "metadata": {},
   "outputs": [
    {
     "name": "stdout",
     "output_type": "stream",
     "text": [
      "Truth: COW\n",
      "PRED :  cow  (Probability:  0.03423151 )\n",
      "\n",
      "Top 10 Possible Prediction\n",
      "[('cow', 0.03423151), ('owl', 0.0182408), ('drop', 0.013346677), ('drink', 0.011414438), ('balloon', 0.01050549), ('tomorrow', 0.0098453965), ('noisy', 0.0096206935), ('bird', 0.009519571), ('bug', 0.008686943), ('grandpa', 0.008581198)]\n"
     ]
    }
   ],
   "source": [
    "output = prediction_fn(inputs=load_relevant_data_subset(video_df))\n",
    "sign = np.argmax(output[\"outputs\"])\n",
    "\n",
    "print('Truth:',Truth_value)\n",
    "\n",
    "print(\"PRED : \", decoder[sign] + '  (Probability: ', max(output['outputs']) , ')')\n",
    "poss_pred = np.argsort(output[\"outputs\"])[-10:][::-1]\n",
    "poss_predict =[]\n",
    "for i in poss_pred:\n",
    "    poss_predict.append((decoder[i], output['outputs'][i]))\n",
    "print('')\n",
    "print(\"Top 10 Possible Prediction\")\n",
    "print(poss_predict)"
   ]
  }
 ],
 "metadata": {
  "kernelspec": {
   "display_name": "Python 3 (ipykernel)",
   "language": "python",
   "name": "python3"
  },
  "language_info": {
   "codemirror_mode": {
    "name": "ipython",
    "version": 3
   },
   "file_extension": ".py",
   "mimetype": "text/x-python",
   "name": "python",
   "nbconvert_exporter": "python",
   "pygments_lexer": "ipython3",
   "version": "3.10.9"
  }
 },
 "nbformat": 4,
 "nbformat_minor": 4
}
