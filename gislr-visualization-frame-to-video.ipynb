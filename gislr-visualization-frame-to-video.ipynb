{
 "cells": [
  {
   "cell_type": "code",
   "execution_count": 1,
   "id": "951c9d8c",
   "metadata": {
    "_kg_hide-output": true,
    "execution": {
     "iopub.execute_input": "2023-04-18T04:03:25.115843Z",
     "iopub.status.busy": "2023-04-18T04:03:25.114534Z",
     "iopub.status.idle": "2023-04-18T04:03:40.610394Z",
     "shell.execute_reply": "2023-04-18T04:03:40.609260Z"
    },
    "papermill": {
     "duration": 15.509213,
     "end_time": "2023-04-18T04:03:40.613606",
     "exception": false,
     "start_time": "2023-04-18T04:03:25.104393",
     "status": "completed"
    },
    "tags": []
   },
   "outputs": [
    {
     "name": "stdout",
     "output_type": "stream",
     "text": [
      "Collecting ffmpeg-python\r\n",
      "  Downloading ffmpeg_python-0.2.0-py3-none-any.whl (25 kB)\r\n",
      "Collecting nb-black\r\n",
      "  Downloading nb_black-1.0.7.tar.gz (4.8 kB)\r\n",
      "  Preparing metadata (setup.py) ... \u001b[?25l-\b \bdone\r\n",
      "\u001b[?25hRequirement already satisfied: future in /opt/conda/lib/python3.7/site-packages (from ffmpeg-python) (0.18.3)\r\n",
      "Requirement already satisfied: ipython in /opt/conda/lib/python3.7/site-packages (from nb-black) (7.34.0)\r\n",
      "Collecting black>='19.3'\r\n",
      "  Downloading black-23.3.0-cp37-cp37m-manylinux_2_17_x86_64.manylinux2014_x86_64.whl (1.6 MB)\r\n",
      "\u001b[2K     \u001b[90m━━━━━━━━━━━━━━━━━━━━━━━━━━━━━━━━━━━━━━━━\u001b[0m \u001b[32m1.6/1.6 MB\u001b[0m \u001b[31m21.5 MB/s\u001b[0m eta \u001b[36m0:00:00\u001b[0m\r\n",
      "\u001b[?25hRequirement already satisfied: typed-ast>=1.4.2 in /opt/conda/lib/python3.7/site-packages (from black>='19.3'->nb-black) (1.5.4)\r\n",
      "Collecting mypy-extensions>=0.4.3\r\n",
      "  Downloading mypy_extensions-1.0.0-py3-none-any.whl (4.7 kB)\r\n",
      "Collecting pathspec>=0.9.0\r\n",
      "  Downloading pathspec-0.11.1-py3-none-any.whl (29 kB)\r\n",
      "Requirement already satisfied: click>=8.0.0 in /opt/conda/lib/python3.7/site-packages (from black>='19.3'->nb-black) (8.1.3)\r\n",
      "Requirement already satisfied: typing-extensions>=3.10.0.0 in /opt/conda/lib/python3.7/site-packages (from black>='19.3'->nb-black) (4.4.0)\r\n",
      "Requirement already satisfied: tomli>=1.1.0 in /opt/conda/lib/python3.7/site-packages (from black>='19.3'->nb-black) (2.0.1)\r\n",
      "Requirement already satisfied: platformdirs>=2 in /opt/conda/lib/python3.7/site-packages (from black>='19.3'->nb-black) (2.6.2)\r\n",
      "Requirement already satisfied: packaging>=22.0 in /opt/conda/lib/python3.7/site-packages (from black>='19.3'->nb-black) (23.0)\r\n",
      "Requirement already satisfied: setuptools>=18.5 in /opt/conda/lib/python3.7/site-packages (from ipython->nb-black) (59.8.0)\r\n",
      "Requirement already satisfied: decorator in /opt/conda/lib/python3.7/site-packages (from ipython->nb-black) (5.1.1)\r\n",
      "Requirement already satisfied: jedi>=0.16 in /opt/conda/lib/python3.7/site-packages (from ipython->nb-black) (0.18.2)\r\n",
      "Requirement already satisfied: pickleshare in /opt/conda/lib/python3.7/site-packages (from ipython->nb-black) (0.7.5)\r\n",
      "Requirement already satisfied: pygments in /opt/conda/lib/python3.7/site-packages (from ipython->nb-black) (2.14.0)\r\n",
      "Requirement already satisfied: backcall in /opt/conda/lib/python3.7/site-packages (from ipython->nb-black) (0.2.0)\r\n",
      "Requirement already satisfied: matplotlib-inline in /opt/conda/lib/python3.7/site-packages (from ipython->nb-black) (0.1.6)\r\n",
      "Requirement already satisfied: pexpect>4.3 in /opt/conda/lib/python3.7/site-packages (from ipython->nb-black) (4.8.0)\r\n",
      "Requirement already satisfied: traitlets>=4.2 in /opt/conda/lib/python3.7/site-packages (from ipython->nb-black) (5.8.1)\r\n",
      "Requirement already satisfied: prompt-toolkit!=3.0.0,!=3.0.1,<3.1.0,>=2.0.0 in /opt/conda/lib/python3.7/site-packages (from ipython->nb-black) (3.0.36)\r\n",
      "Requirement already satisfied: importlib-metadata in /opt/conda/lib/python3.7/site-packages (from click>=8.0.0->black>='19.3'->nb-black) (4.11.4)\r\n",
      "Requirement already satisfied: parso<0.9.0,>=0.8.0 in /opt/conda/lib/python3.7/site-packages (from jedi>=0.16->ipython->nb-black) (0.8.3)\r\n",
      "Requirement already satisfied: ptyprocess>=0.5 in /opt/conda/lib/python3.7/site-packages (from pexpect>4.3->ipython->nb-black) (0.7.0)\r\n",
      "Requirement already satisfied: wcwidth in /opt/conda/lib/python3.7/site-packages (from prompt-toolkit!=3.0.0,!=3.0.1,<3.1.0,>=2.0.0->ipython->nb-black) (0.2.6)\r\n",
      "Requirement already satisfied: zipp>=0.5 in /opt/conda/lib/python3.7/site-packages (from importlib-metadata->click>=8.0.0->black>='19.3'->nb-black) (3.11.0)\r\n",
      "Building wheels for collected packages: nb-black\r\n",
      "  Building wheel for nb-black (setup.py) ... \u001b[?25l-\b \b\\\b \bdone\r\n",
      "\u001b[?25h  Created wheel for nb-black: filename=nb_black-1.0.7-py3-none-any.whl size=5298 sha256=e671e001000018c93c61d7954c2bda5edf2d1fafbce489c49349ea3284caee48\r\n",
      "  Stored in directory: /root/.cache/pip/wheels/79/29/4e/a4405cee966d1019a65c9d6bb6cd1bba039cd9476476703645\r\n",
      "Successfully built nb-black\r\n",
      "Installing collected packages: pathspec, mypy-extensions, ffmpeg-python, black, nb-black\r\n",
      "Successfully installed black-23.3.0 ffmpeg-python-0.2.0 mypy-extensions-1.0.0 nb-black-1.0.7 pathspec-0.11.1\r\n",
      "\u001b[33mWARNING: Running pip as the 'root' user can result in broken permissions and conflicting behaviour with the system package manager. It is recommended to use a virtual environment instead: https://pip.pypa.io/warnings/venv\u001b[0m\u001b[33m\r\n",
      "\u001b[0m"
     ]
    }
   ],
   "source": [
    "!pip install ffmpeg-python nb-black"
   ]
  },
  {
   "cell_type": "code",
   "execution_count": 2,
   "id": "77e5292d",
   "metadata": {
    "execution": {
     "iopub.execute_input": "2023-04-18T04:03:40.630188Z",
     "iopub.status.busy": "2023-04-18T04:03:40.629420Z",
     "iopub.status.idle": "2023-04-18T04:03:41.367081Z",
     "shell.execute_reply": "2023-04-18T04:03:41.365312Z"
    },
    "papermill": {
     "duration": 0.749333,
     "end_time": "2023-04-18T04:03:41.370164",
     "exception": false,
     "start_time": "2023-04-18T04:03:40.620831",
     "status": "completed"
    },
    "tags": []
   },
   "outputs": [],
   "source": [
    "from pathlib import Path\n",
    "from types import SimpleNamespace\n",
    "\n",
    "import cv2\n",
    "import numpy as np\n",
    "import polars as pl\n",
    "import matplotlib.pyplot as plt\n",
    "from tqdm import tqdm\n",
    "import ffmpeg\n",
    "from IPython.core.display import Video\n",
    "\n",
    "plt.style.use(\"default\")\n",
    "\n",
    "cfg = SimpleNamespace()\n",
    "cfg.INPUT = Path(\"../input/asl-signs\")\n",
    "cfg.OUTPUT = Path(\"./animation\")\n",
    "cfg.DEBUG = True\n",
    "\n",
    "if not cfg.OUTPUT.exists():\n",
    "    cfg.OUTPUT.mkdir()\n",
    "\n",
    "\n",
    "%load_ext lab_black\n",
    "%load_ext autoreload\n",
    "%autoreload 2"
   ]
  },
  {
   "cell_type": "code",
   "execution_count": 3,
   "id": "6b3884cb",
   "metadata": {
    "execution": {
     "iopub.execute_input": "2023-04-18T04:03:41.385030Z",
     "iopub.status.busy": "2023-04-18T04:03:41.384615Z",
     "iopub.status.idle": "2023-04-18T04:03:41.547366Z",
     "shell.execute_reply": "2023-04-18T04:03:41.546269Z"
    },
    "papermill": {
     "duration": 0.173545,
     "end_time": "2023-04-18T04:03:41.550183",
     "exception": false,
     "start_time": "2023-04-18T04:03:41.376638",
     "status": "completed"
    },
    "tags": []
   },
   "outputs": [],
   "source": [
    "train = pl.read_csv(cfg.INPUT / \"train.csv\")"
   ]
  },
  {
   "cell_type": "code",
   "execution_count": 4,
   "id": "30d8eeff",
   "metadata": {
    "execution": {
     "iopub.execute_input": "2023-04-18T04:03:41.565999Z",
     "iopub.status.busy": "2023-04-18T04:03:41.565153Z",
     "iopub.status.idle": "2023-04-18T04:03:41.634285Z",
     "shell.execute_reply": "2023-04-18T04:03:41.632558Z"
    },
    "papermill": {
     "duration": 0.081188,
     "end_time": "2023-04-18T04:03:41.638253",
     "exception": false,
     "start_time": "2023-04-18T04:03:41.557065",
     "status": "completed"
    },
    "tags": []
   },
   "outputs": [],
   "source": [
    "pose_edges = [\n",
    "    {\"name\": \"other\", \"path\": [(9, 10), (11, 12), (23, 24)], \"color\": (255, 255, 255)},\n",
    "    {\n",
    "        \"name\": \"right_eye\",\n",
    "        \"path\": [(0, 4), (4, 5), (5, 6), (6, 8)],\n",
    "        \"color\": (255, 0, 255),\n",
    "    },\n",
    "    {\n",
    "        \"name\": \"left_eye\",\n",
    "        \"path\": [(0, 1), (1, 2), (2, 3), (3, 7)],\n",
    "        \"color\": (0, 0, 255),\n",
    "    },\n",
    "    {\"name\": \"right_hand\", \"path\": [(14, 16), (12, 14)], \"color\": (255, 40, 255)},\n",
    "    {\n",
    "        \"name\": \"left_hand\",\n",
    "        \"path\": [(11, 13), (13, 15)],\n",
    "        \"color\": (40, 40, 255),\n",
    "    },\n",
    "    {\"name\": \"right_torso\", \"path\": [(12, 24)], \"color\": (255, 80, 255)},\n",
    "    {\"name\": \"left_torso\", \"path\": [(11, 23)], \"color\": (80, 80, 255)},\n",
    "]\n",
    "hand_edges = [\n",
    "    {\n",
    "        \"name\": \"thumb\",\n",
    "        \"path\": [(0, 1), (1, 2), (2, 3), (3, 4)],\n",
    "        \"color\": (255, 255, 255),\n",
    "    },\n",
    "    {\"name\": \"index_finter\", \"path\": [(5, 6), (6, 7), (7, 8)], \"color\": (120, 40, 150)},\n",
    "    {\n",
    "        \"name\": \"middle_finger\",\n",
    "        \"path\": [(9, 10), (10, 11), (11, 12)],\n",
    "        \"color\": (0, 255, 255),\n",
    "    },\n",
    "    {\n",
    "        \"name\": \"ring_finger\",\n",
    "        \"path\": [(13, 14), (14, 15), (15, 16)],\n",
    "        \"color\": (0, 255, 0),\n",
    "    },\n",
    "    {\n",
    "        \"name\": \"little_finger\",\n",
    "        \"path\": [(17, 18), (18, 19), (19, 20)],\n",
    "        \"color\": (255, 0, 0),\n",
    "    },\n",
    "    {\n",
    "        \"name\": \"palm\",\n",
    "        \"path\": [(0, 5), (5, 9), (9, 13), (13, 17), (17, 0)],\n",
    "        \"color\": (140, 140, 140),\n",
    "    },\n",
    "    {\"name\": \"\", \"path\": [], \"color\": ()},\n",
    "]"
   ]
  },
  {
   "cell_type": "code",
   "execution_count": 5,
   "id": "5a1ef6c9",
   "metadata": {
    "execution": {
     "iopub.execute_input": "2023-04-18T04:03:41.656798Z",
     "iopub.status.busy": "2023-04-18T04:03:41.656349Z",
     "iopub.status.idle": "2023-04-18T04:03:41.756923Z",
     "shell.execute_reply": "2023-04-18T04:03:41.755420Z"
    },
    "papermill": {
     "duration": 0.113257,
     "end_time": "2023-04-18T04:03:41.760276",
     "exception": false,
     "start_time": "2023-04-18T04:03:41.647019",
     "status": "completed"
    },
    "tags": []
   },
   "outputs": [],
   "source": [
    "def draw_frame(frame, lms_all):\n",
    "    image = np.zeros((512, 512, 3), np.uint8)\n",
    "\n",
    "    # process pose\n",
    "    right_wrist = (None, None)\n",
    "    left_wrist = (None, None)\n",
    "    lm = lms_all[frame].filter(\n",
    "        (pl.col(\"type\") == \"pose\") & (pl.col(\"landmark_index\") < 25)\n",
    "    )\n",
    "    beta = 0.8\n",
    "    lm = lm.with_columns(\n",
    "        [\n",
    "            (pl.col(\"x\") - pl.col(\"x\").first() + 0.5 / beta).alias(\"x\"),\n",
    "            (pl.col(\"y\") - pl.col(\"y\").first() + 0.15 / beta).alias(\"y\"),\n",
    "        ]\n",
    "    )\n",
    "    right_wrist = (lm[\"x\"][16] * beta, lm[\"y\"][16] * beta)\n",
    "    left_wrist = (lm[\"x\"][15] * beta, lm[\"y\"][15] * beta)\n",
    "    upper_lip = (\n",
    "        (lm[\"x\"][9] + lm[\"x\"][10]) / 2 * beta,\n",
    "        (lm[\"y\"][9] + lm[\"y\"][9]) / 2 * beta,\n",
    "    )\n",
    "    for edge in pose_edges:\n",
    "        name, paths, color = edge.values()\n",
    "        for i, j in paths:\n",
    "            x1, x2, y1, y2 = (\n",
    "                lm[\"x\"][i] * beta,\n",
    "                lm[\"x\"][j] * beta,\n",
    "                lm[\"y\"][i] * beta,\n",
    "                lm[\"y\"][j] * beta,\n",
    "            )\n",
    "            if not ((x1 is None) | (x2 is None) | (y1 is None) | (y2 is None)):\n",
    "                x1 = int(x1 * 512)\n",
    "                x2 = int(x2 * 512)\n",
    "                y1 = int(y1 * 512)\n",
    "                y2 = int(y2 * 512)\n",
    "                image = cv2.line(image, (x1, y1), (x2, y2), color, thickness=2)\n",
    "\n",
    "    # process face\n",
    "    lm = lms_all[frame].filter(pl.col(\"type\") == \"face\")\n",
    "    lm = lm.with_columns(\n",
    "        [\n",
    "            (pl.col(\"x\") - pl.col(\"x\").first()).alias(\"x\"),\n",
    "            (pl.col(\"y\") - pl.col(\"y\").first()).alias(\"y\"),\n",
    "        ]\n",
    "    )\n",
    "    x0, y0 = upper_lip\n",
    "    if (\n",
    "        (lm[\"x\"][0] is not None)\n",
    "        & (lm[\"y\"][0] is not None)\n",
    "        & (x0 is not None)\n",
    "        & (y0 is not None)\n",
    "    ):\n",
    "        gamma = 0.7\n",
    "        point_color = (255, 255, 255)\n",
    "        radius = 1\n",
    "        for x, y in lm.select([\"x\", \"y\"]).to_numpy():\n",
    "            x, y = x * gamma + x0, y * gamma + y0\n",
    "            x = int(x * 512)\n",
    "            y = int(y * 512)\n",
    "            cv2.circle(image, (x, y), radius, point_color, -1)\n",
    "\n",
    "    # process hands\n",
    "    lms = (\n",
    "        lms_all[frame]\n",
    "        .filter((pl.col(\"type\") == \"right_hand\") | (pl.col(\"type\") == \"left_hand\"))\n",
    "        .partition_by(\"type\")\n",
    "    )\n",
    "\n",
    "    for lm in lms:\n",
    "        lm = lm.with_columns(\n",
    "            [\n",
    "                (pl.col(\"x\") - pl.col(\"x\").first()).alias(\"x\"),\n",
    "                (pl.col(\"y\") - pl.col(\"y\").first()).alias(\"y\"),\n",
    "            ]\n",
    "        )\n",
    "        lm_type = lm.row(0)[2]\n",
    "        x0, y0 = right_wrist if (lm_type == \"right_hand\") else left_wrist\n",
    "        if (lm[\"x\"][0] is None) | (lm[\"y\"][0] is None) | (x0 is None) | (y0 is None):\n",
    "            continue\n",
    "        alpha = 0.6\n",
    "        for edge in hand_edges:\n",
    "            name, paths, color = edge.values()\n",
    "            for i, j in paths:\n",
    "                x1, x2, y1, y2 = (\n",
    "                    (lm[\"x\"][i] * alpha + x0),\n",
    "                    (lm[\"x\"][j] * alpha + x0),\n",
    "                    (lm[\"y\"][i] * alpha + y0),\n",
    "                    (lm[\"y\"][j] * alpha + y0),\n",
    "                )\n",
    "                if not ((x1 is None) | (x2 is None) | (y1 is None) | (y2 is None)):\n",
    "                    x1 = int(x1 * 512)\n",
    "                    x2 = int(x2 * 512)\n",
    "                    y1 = int(y1 * 512)\n",
    "                    y2 = int(y2 * 512)\n",
    "                    image = cv2.line(image, (x1, y1), (x2, y2), color, thickness=2)\n",
    "    image = cv2.cvtColor(image, cv2.COLOR_BGR2RGB)\n",
    "    return image"
   ]
  },
  {
   "cell_type": "markdown",
   "id": "d95a97b5",
   "metadata": {
    "papermill": {
     "duration": 0.00601,
     "end_time": "2023-04-18T04:03:41.772710",
     "exception": false,
     "start_time": "2023-04-18T04:03:41.766700",
     "status": "completed"
    },
    "tags": []
   },
   "source": [
    "# Drawing Sample Sequences\n",
    "\n",
    "landmark data of face and both hands are joined to pose at these key points:\n",
    "\n",
    "- face: upper lip\n",
    "- both hands: wrist\n",
    "\n",
    "Scales are ajusted manually as follows:\n",
    "\n",
    "- face: 0.7\n",
    "- both hands: 0.6\n",
    "- pose: 0.8"
   ]
  },
  {
   "cell_type": "code",
   "execution_count": 6,
   "id": "c35f0754",
   "metadata": {
    "execution": {
     "iopub.execute_input": "2023-04-18T04:03:41.787815Z",
     "iopub.status.busy": "2023-04-18T04:03:41.787419Z",
     "iopub.status.idle": "2023-04-18T04:03:44.158757Z",
     "shell.execute_reply": "2023-04-18T04:03:44.157066Z"
    },
    "papermill": {
     "duration": 2.383504,
     "end_time": "2023-04-18T04:03:44.162532",
     "exception": false,
     "start_time": "2023-04-18T04:03:41.779028",
     "status": "completed"
    },
    "tags": []
   },
   "outputs": [
    {
     "data": {
      "image/png": "[encoded data removed]",
      "text/plain": [
       "<Figure size 640x480 with 1 Axes>"
      ]
     },
     "metadata": {},
     "output_type": "display_data"
    }
   ],
   "source": [
    "OUTPUT = Path(\"lm\")\n",
    "if not OUTPUT.exists():\n",
    "    OUTPUT.mkdir()\n",
    "\n",
    "lm_data = {\n",
    "    k: v\n",
    "    for k, v in zip(\n",
    "        train.columns,\n",
    "        train.filter(\n",
    "            (pl.col(\"participant_id\") == 2044) & (pl.col(\"sequence_id\") == 3356604026)\n",
    "        ).row(0),\n",
    "    )\n",
    "}\n",
    "df_landmark = pl.read_parquet(cfg.INPUT / lm_data[\"path\"])\n",
    "\n",
    "df_frames = df_landmark.partition_by(\"frame\")\n",
    "for idx, frame in enumerate(range(len(df_frames))):\n",
    "    image = draw_frame(frame, df_frames)\n",
    "\n",
    "    cv2.imwrite((OUTPUT / f\"lm{idx:03d}.png\").as_posix(), image)\n",
    "    plt.imshow(image)"
   ]
  },
  {
   "cell_type": "markdown",
   "id": "a08b4425",
   "metadata": {
    "papermill": {
     "duration": 0.007537,
     "end_time": "2023-04-18T04:03:44.178030",
     "exception": false,
     "start_time": "2023-04-18T04:03:44.170493",
     "status": "completed"
    },
    "tags": []
   },
   "source": [
    "# Making Animation"
   ]
  },
  {
   "cell_type": "code",
   "execution_count": 7,
   "id": "6993947e",
   "metadata": {
    "execution": {
     "iopub.execute_input": "2023-04-18T04:03:44.195271Z",
     "iopub.status.busy": "2023-04-18T04:03:44.194808Z",
     "iopub.status.idle": "2023-04-18T04:03:44.248031Z",
     "shell.execute_reply": "2023-04-18T04:03:44.246774Z"
    },
    "papermill": {
     "duration": 0.065237,
     "end_time": "2023-04-18T04:03:44.250980",
     "exception": false,
     "start_time": "2023-04-18T04:03:44.185743",
     "status": "completed"
    },
    "tags": []
   },
   "outputs": [],
   "source": [
    "def make_animation(row, columns, fps: int = 10):\n",
    "    data = {k: v for k, v in zip(columns, row)}\n",
    "    sign, participant_id, sequence_id = (\n",
    "        data[\"sign\"],\n",
    "        data[\"participant_id\"],\n",
    "        data[\"sequence_id\"],\n",
    "    )\n",
    "\n",
    "    df_landmark = pl.read_parquet(cfg.INPUT / data[\"path\"])\n",
    "    df_landmark = df_landmark.sort([\"frame\", \"type\", \"landmark_index\"])\n",
    "    lms_all = df_landmark.partition_by(\"frame\")\n",
    "\n",
    "    height, width = 512, 512\n",
    "    if not (cfg.OUTPUT / sign).exists():\n",
    "        (cfg.OUTPUT / sign).mkdir()\n",
    "\n",
    "    output_filename = (\n",
    "        cfg.OUTPUT / sign / f\"{participant_id}_{sequence_id}.mp4\"\n",
    "    ).as_posix()\n",
    "    process = (\n",
    "        ffmpeg.input(\"pipe:\", format=\"rawvideo\", pix_fmt=\"rgb24\", s=f\"{width}x{height}\")\n",
    "        .output(\n",
    "            output_filename,\n",
    "            pix_fmt=\"yuv420p\",\n",
    "            vcodec=\"libx264\",\n",
    "            r=fps,\n",
    "            loglevel=\"quiet\",\n",
    "        )\n",
    "        .overwrite_output()\n",
    "        .run_async(pipe_stdin=True)\n",
    "    )\n",
    "\n",
    "    for frame in range(len(lms_all)):\n",
    "        image = draw_frame(frame, lms_all)\n",
    "        process.stdin.write(image.tobytes())\n",
    "\n",
    "    process.stdin.close()\n",
    "    process.wait()"
   ]
  },
  {
   "cell_type": "code",
   "execution_count": 8,
   "id": "197ba92f",
   "metadata": {
    "execution": {
     "iopub.execute_input": "2023-04-18T04:03:44.267594Z",
     "iopub.status.busy": "2023-04-18T04:03:44.267130Z",
     "iopub.status.idle": "2023-04-18T04:03:44.329007Z",
     "shell.execute_reply": "2023-04-18T04:03:44.327668Z"
    },
    "papermill": {
     "duration": 0.073623,
     "end_time": "2023-04-18T04:03:44.331985",
     "exception": false,
     "start_time": "2023-04-18T04:03:44.258362",
     "status": "completed"
    },
    "tags": []
   },
   "outputs": [],
   "source": [
    "train_unique_signs = train.filter(\n",
    "    (pl.arange(0, pl.count())).shuffle(seed=42).over(\"sign\") < 5\n",
    ")"
   ]
  },
  {
   "cell_type": "code",
   "execution_count": 9,
   "id": "73c08cb8",
   "metadata": {
    "execution": {
     "iopub.execute_input": "2023-04-18T04:03:44.348793Z",
     "iopub.status.busy": "2023-04-18T04:03:44.347984Z",
     "iopub.status.idle": "2023-04-18T04:03:47.752673Z",
     "shell.execute_reply": "2023-04-18T04:03:47.751056Z"
    },
    "papermill": {
     "duration": 3.416107,
     "end_time": "2023-04-18T04:03:47.755257",
     "exception": false,
     "start_time": "2023-04-18T04:03:44.339150",
     "status": "completed"
    },
    "tags": []
   },
   "outputs": [
    {
     "name": "stderr",
     "output_type": "stream",
     "text": [
      "  0%|          | 0/5 [00:00<?, ?it/s]ffmpeg: /opt/conda/lib/libncursesw.so.6: no version information available (required by /lib/x86_64-linux-gnu/libcaca.so.0)\n",
      "ffmpeg: /opt/conda/lib/libncursesw.so.6: no version information available (required by /lib/x86_64-linux-gnu/libcaca.so.0)\n",
      " 20%|██        | 1/5 [00:00<00:03,  1.16it/s]ffmpeg: /opt/conda/lib/libncursesw.so.6: no version information available (required by /lib/x86_64-linux-gnu/libcaca.so.0)\n",
      "ffmpeg: /opt/conda/lib/libncursesw.so.6: no version information available (required by /lib/x86_64-linux-gnu/libcaca.so.0)\n",
      " 40%|████      | 2/5 [00:01<00:01,  1.91it/s]ffmpeg: /opt/conda/lib/libncursesw.so.6: no version information available (required by /lib/x86_64-linux-gnu/libcaca.so.0)\n",
      "ffmpeg: /opt/conda/lib/libncursesw.so.6: no version information available (required by /lib/x86_64-linux-gnu/libcaca.so.0)\n",
      " 60%|██████    | 3/5 [00:01<00:00,  2.06it/s]ffmpeg: /opt/conda/lib/libncursesw.so.6: no version information available (required by /lib/x86_64-linux-gnu/libcaca.so.0)\n",
      "ffmpeg: /opt/conda/lib/libncursesw.so.6: no version information available (required by /lib/x86_64-linux-gnu/libcaca.so.0)\n",
      " 80%|████████  | 4/5 [00:03<00:00,  1.10it/s]ffmpeg: /opt/conda/lib/libncursesw.so.6: no version information available (required by /lib/x86_64-linux-gnu/libcaca.so.0)\n",
      "ffmpeg: /opt/conda/lib/libncursesw.so.6: no version information available (required by /lib/x86_64-linux-gnu/libcaca.so.0)\n",
      "100%|██████████| 5/5 [00:03<00:00,  1.49it/s]\n"
     ]
    }
   ],
   "source": [
    "if not cfg.OUTPUT.exists():\n",
    "    cfg.OUTPUT.mkdir()\n",
    "\n",
    "if cfg.DEBUG:\n",
    "    df = train_unique_signs.head(5)\n",
    "else:\n",
    "    df = train_unique_signs\n",
    "\n",
    "for row in tqdm(df.iter_rows(), total=len(df)):\n",
    "    make_animation(row, df.columns)"
   ]
  },
  {
   "cell_type": "code",
   "execution_count": 10,
   "id": "5eec6dc1",
   "metadata": {
    "execution": {
     "iopub.execute_input": "2023-04-18T04:03:47.774003Z",
     "iopub.status.busy": "2023-04-18T04:03:47.773132Z",
     "iopub.status.idle": "2023-04-18T04:03:48.911011Z",
     "shell.execute_reply": "2023-04-18T04:03:48.909600Z"
    },
    "papermill": {
     "duration": 1.15074,
     "end_time": "2023-04-18T04:03:48.914034",
     "exception": false,
     "start_time": "2023-04-18T04:03:47.763294",
     "status": "completed"
    },
    "tags": []
   },
   "outputs": [
    {
     "name": "stdout",
     "output_type": "stream",
     "text": [
      "\u001b[01;34manimation\u001b[00m\r\n",
      "├── \u001b[01;34mTV\u001b[00m\r\n",
      "│   └── 28656_125816896.mp4\r\n",
      "├── \u001b[01;34mall\u001b[00m\r\n",
      "│   └── 26734_1247514751.mp4\r\n",
      "├── \u001b[01;34mbrother\u001b[00m\r\n",
      "│   └── 30680_1279123159.mp4\r\n",
      "├── \u001b[01;34mbug\u001b[00m\r\n",
      "│   └── 61333_1268993802.mp4\r\n",
      "└── \u001b[01;34mlion\u001b[00m\r\n",
      "    └── 29302_1271911796.mp4\r\n",
      "\r\n",
      "5 directories, 5 files\r\n"
     ]
    }
   ],
   "source": [
    "!tree animation"
   ]
  },
  {
   "cell_type": "code",
   "execution_count": 11,
   "id": "3083aba4",
   "metadata": {
    "execution": {
     "iopub.execute_input": "2023-04-18T04:03:48.932429Z",
     "iopub.status.busy": "2023-04-18T04:03:48.931958Z",
     "iopub.status.idle": "2023-04-18T04:03:48.979393Z",
     "shell.execute_reply": "2023-04-18T04:03:48.978025Z"
    },
    "papermill": {
     "duration": 0.060128,
     "end_time": "2023-04-18T04:03:48.982186",
     "exception": false,
     "start_time": "2023-04-18T04:03:48.922058",
     "status": "completed"
    },
    "tags": []
   },
   "outputs": [
    {
     "data": {
      "text/html": [
       "<video src=\"animation/TV/28656_125816896.mp4\" controls  >\n",
       "      Your browser does not support the <code>video</code> element.\n",
       "    </video>"
      ],
      "text/plain": [
       "<IPython.core.display.Video object>"
      ]
     },
     "execution_count": 11,
     "metadata": {},
     "output_type": "execute_result"
    }
   ],
   "source": [
    "Video(\"animation/TV/28656_125816896.mp4\")"
   ]
  },
  {
   "cell_type": "code",
   "execution_count": 12,
   "id": "cfda36c7",
   "metadata": {
    "execution": {
     "iopub.execute_input": "2023-04-18T04:03:49.000388Z",
     "iopub.status.busy": "2023-04-18T04:03:48.999930Z",
     "iopub.status.idle": "2023-04-18T04:03:49.040871Z",
     "shell.execute_reply": "2023-04-18T04:03:49.039553Z"
    },
    "papermill": {
     "duration": 0.053174,
     "end_time": "2023-04-18T04:03:49.043570",
     "exception": false,
     "start_time": "2023-04-18T04:03:48.990396",
     "status": "completed"
    },
    "tags": []
   },
   "outputs": [
    {
     "data": {
      "text/html": [
       "<video src=\"animation/all/26734_1247514751.mp4\" controls  >\n",
       "      Your browser does not support the <code>video</code> element.\n",
       "    </video>"
      ],
      "text/plain": [
       "<IPython.core.display.Video object>"
      ]
     },
     "execution_count": 12,
     "metadata": {},
     "output_type": "execute_result"
    }
   ],
   "source": [
    "Video(\"animation/all/26734_1247514751.mp4\")"
   ]
  },
  {
   "cell_type": "code",
   "execution_count": 13,
   "id": "4a051469",
   "metadata": {
    "execution": {
     "iopub.execute_input": "2023-04-18T04:03:49.063109Z",
     "iopub.status.busy": "2023-04-18T04:03:49.062691Z",
     "iopub.status.idle": "2023-04-18T04:03:49.102296Z",
     "shell.execute_reply": "2023-04-18T04:03:49.101172Z"
    },
    "papermill": {
     "duration": 0.05221,
     "end_time": "2023-04-18T04:03:49.105118",
     "exception": false,
     "start_time": "2023-04-18T04:03:49.052908",
     "status": "completed"
    },
    "tags": []
   },
   "outputs": [
    {
     "data": {
      "text/html": [
       "<video src=\"animation/bug/61333_1268993802.mp4\" controls  >\n",
       "      Your browser does not support the <code>video</code> element.\n",
       "    </video>"
      ],
      "text/plain": [
       "<IPython.core.display.Video object>"
      ]
     },
     "execution_count": 13,
     "metadata": {},
     "output_type": "execute_result"
    }
   ],
   "source": [
    "Video(\"animation/bug/61333_1268993802.mp4\")"
   ]
  },
  {
   "cell_type": "code",
   "execution_count": 14,
   "id": "6df89cdd",
   "metadata": {
    "execution": {
     "iopub.execute_input": "2023-04-18T04:03:49.124114Z",
     "iopub.status.busy": "2023-04-18T04:03:49.123672Z",
     "iopub.status.idle": "2023-04-18T04:03:49.163444Z",
     "shell.execute_reply": "2023-04-18T04:03:49.162221Z"
    },
    "papermill": {
     "duration": 0.052421,
     "end_time": "2023-04-18T04:03:49.166259",
     "exception": false,
     "start_time": "2023-04-18T04:03:49.113838",
     "status": "completed"
    },
    "tags": []
   },
   "outputs": [
    {
     "data": {
      "text/html": [
       "<video src=\"animation/lion/29302_1271911796.mp4\" controls  >\n",
       "      Your browser does not support the <code>video</code> element.\n",
       "    </video>"
      ],
      "text/plain": [
       "<IPython.core.display.Video object>"
      ]
     },
     "execution_count": 14,
     "metadata": {},
     "output_type": "execute_result"
    }
   ],
   "source": [
    "Video(\"animation/lion/29302_1271911796.mp4\")"
   ]
  }
 ],
 "metadata": {
  "kernelspec": {
   "display_name": "Python 3",
   "language": "python",
   "name": "python3"
  },
  "language_info": {
   "codemirror_mode": {
    "name": "ipython",
    "version": 3
   },
   "file_extension": ".py",
   "mimetype": "text/x-python",
   "name": "python",
   "nbconvert_exporter": "python",
   "pygments_lexer": "ipython3",
   "version": "3.7.12"
  },
  "papermill": {
   "default_parameters": {},
   "duration": 35.984912,
   "end_time": "2023-04-18T04:03:49.997912",
   "environment_variables": {},
   "exception": null,
   "input_path": "__notebook__.ipynb",
   "output_path": "__notebook__.ipynb",
   "parameters": {},
   "start_time": "2023-04-18T04:03:14.013000",
   "version": "2.4.0"
  }
 },
 "nbformat": 4,
 "nbformat_minor": 5
}
